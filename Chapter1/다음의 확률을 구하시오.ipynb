{
 "cells": [
  {
   "cell_type": "markdown",
   "metadata": {},
   "source": [
    "### 5개의 질문으로 구성된 4지선다형 시험에서 오직 하나만이 정답일 대, 다음을 구하라\n",
    "a) 어떤 학생이 각 질문에 대하여 하나의 답을 표시할 확률은 얼마인가?  \n",
    "b) 어떤 학생이 각 질문에 대하여 하나의 답을 표시하고, 모든 답안이 틀리게 될 확률은 얼마인가"
   ]
  },
  {
   "cell_type": "code",
   "execution_count": null,
   "metadata": {},
   "outputs": [],
   "source": []
  }
 ],
 "metadata": {
  "kernelspec": {
   "display_name": "Python 3",
   "language": "python",
   "name": "python3"
  },
  "language_info": {
   "codemirror_mode": {
    "name": "ipython",
    "version": 3
   },
   "file_extension": ".py",
   "mimetype": "text/x-python",
   "name": "python",
   "nbconvert_exporter": "python",
   "pygments_lexer": "ipython3",
   "version": "3.7.4"
  }
 },
 "nbformat": 4,
 "nbformat_minor": 2
}
